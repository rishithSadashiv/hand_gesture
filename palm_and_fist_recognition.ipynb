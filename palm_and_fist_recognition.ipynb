{
 "cells": [
  {
   "cell_type": "code",
   "execution_count": 2,
   "metadata": {},
   "outputs": [],
   "source": [
    "# To check for palm and fist\n",
    "import numpy as np\n",
    "import cv2\n",
    "import math\n",
    "\n",
    "#LOADING HAND CASCADE\n",
    "palm_cascade = cv2.CascadeClassifier('palm_haar_cascade1.xml')\n",
    "fist_cascade = cv2.CascadeClassifier('fist_haar_cascade1.xml')\n",
    "\n",
    "cap = cv2.VideoCapture(0)\n",
    "while 1:\n",
    "    ret, img = cap.read()\n",
    "    blur = cv2.GaussianBlur(img,(5,5),0) # BLURRING IMAGE TO SMOOTHEN EDGES\n",
    "    gray = cv2.cvtColor(blur, cv2.COLOR_BGR2GRAY) # BGR -> GRAY CONVERSION\n",
    "    retval2,thresh1 = cv2.threshold(gray,70,255,cv2.THRESH_BINARY_INV+cv2.THRESH_OTSU) # THRESHOLDING IMAGE\n",
    "    palm = palm_cascade.detectMultiScale(img, 1.3, 5) # DETECTING palm IN THE THRESHOLDE IMAGE\n",
    "    fist = fist_cascade.detectMultiScale(img, 1.3, 5) # DETECTING fist IN THE THRESHOLDE IMAGE\n",
    "    if len(fist) and len(palm):\n",
    "        print('both')\n",
    "    elif len(fist):\n",
    "        print('fist')\n",
    "    elif len(palm):\n",
    "        print('palm')\n",
    "        \n",
    "    for (x,y,w,h) in palm: # MARKING THE DETECTED ROI\n",
    "        #print(x,y,w,h)\n",
    "        cv2.rectangle(img,(x,y),(x+w,y+h), (122,122,0), 2) \n",
    "        \n",
    "    for (x,y,w,h) in fist:\n",
    "        cv2.rectangle(img,(x,y),(x+w,y+h), (122,122,0), 2)        \n",
    "    cv2.imshow('img',img)\n",
    "    \n",
    "    \n",
    "    \n",
    "    k = cv2.waitKey(10)\n",
    "    if k == 27:\n",
    "        cap.release()\n",
    "        break\n",
    "        \n",
    "cv2.destroyAllWindows()"
   ]
  },
  {
   "cell_type": "code",
   "execution_count": null,
   "metadata": {},
   "outputs": [],
   "source": []
  }
 ],
 "metadata": {
  "kernelspec": {
   "display_name": "Python 3",
   "language": "python",
   "name": "python3"
  },
  "language_info": {
   "codemirror_mode": {
    "name": "ipython",
    "version": 3
   },
   "file_extension": ".py",
   "mimetype": "text/x-python",
   "name": "python",
   "nbconvert_exporter": "python",
   "pygments_lexer": "ipython3",
   "version": "3.8.3"
  }
 },
 "nbformat": 4,
 "nbformat_minor": 4
}
