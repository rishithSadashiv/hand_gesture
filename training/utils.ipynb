{
 "cells": [
  {
   "cell_type": "code",
   "execution_count": 3,
   "metadata": {},
   "outputs": [],
   "source": [
    "import cv2\n",
    "import numpy as np\n",
    "import os\n"
   ]
  },
  {
   "cell_type": "code",
   "execution_count": 4,
   "metadata": {},
   "outputs": [],
   "source": [
    "# convert the gathered images in neg/ and pos/ into grayscale and resize them into (50x50) images\n",
    "def convert_to_grayScale_and_resize():\n",
    "          \n",
    "    try:\n",
    "        for folder in ['neg', 'pos']:\n",
    "            for name in os.listdir(folder):\n",
    "                img = cv2.imread(folder+'/'+name, cv2.IMREAD_GRAYSCALE)\n",
    "                print(img.shape)\n",
    "                resized_image = cv2.resize(img, (50, 50))\n",
    "                cv2.imwrite(folder+'/'+name, resized_image)\n",
    "            \n",
    "    except Exception as e:\n",
    "        print(e)\n",
    "        "
   ]
  },
  {
   "cell_type": "code",
   "execution_count": 5,
   "metadata": {},
   "outputs": [
    {
     "name": "stdout",
     "output_type": "stream",
     "text": [
      "[WinError 3] The system cannot find the path specified: 'positives2'\n"
     ]
    }
   ],
   "source": [
    "convert_to_grayScale_and_resize()"
   ]
  },
  {
   "cell_type": "code",
   "execution_count": 25,
   "metadata": {},
   "outputs": [],
   "source": [
    "def create_pos_n_neg():\n",
    "    for folder in ['neg','pos']:\n",
    "        for img in os.listdir(folder):\n",
    "            if folder == 'pos':\n",
    "                line = folder+'/'+img+' 1 0 0 50 50\\n'\n",
    "                with open('info.lst','a') as f:\n",
    "                    f.write(line)\n",
    "            elif folder == 'neg':\n",
    "                line = folder+'/'+img+'\\n'\n",
    "                with open('bg.txt','a') as f:\n",
    "                    f.write(line)\n",
    "               \n"
   ]
  },
  {
   "cell_type": "code",
   "execution_count": 26,
   "metadata": {},
   "outputs": [],
   "source": [
    "create_pos_n_neg()"
   ]
  },
  {
   "cell_type": "code",
   "execution_count": null,
   "metadata": {},
   "outputs": [],
   "source": []
  }
 ],
 "metadata": {
  "kernelspec": {
   "display_name": "Python 3",
   "language": "python",
   "name": "python3"
  },
  "language_info": {
   "codemirror_mode": {
    "name": "ipython",
    "version": 3
   },
   "file_extension": ".py",
   "mimetype": "text/x-python",
   "name": "python",
   "nbconvert_exporter": "python",
   "pygments_lexer": "ipython3",
   "version": "3.8.3"
  }
 },
 "nbformat": 4,
 "nbformat_minor": 4
}
