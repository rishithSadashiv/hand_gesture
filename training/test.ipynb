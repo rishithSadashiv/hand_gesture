{
 "cells": [
  {
   "cell_type": "code",
   "execution_count": 61,
   "metadata": {},
   "outputs": [],
   "source": [
    "import cv2\n",
    "import numpy as np\n",
    "import math\n",
    "import sys\n",
    "\n",
    "hand_cascade = cv2.CascadeClassifier('data/hand_cascade_stage16.xml') # cascade trained for images of size (20x20) 1400 pos and 700 neg\n",
    "# hand_cascade = cv2.CascadeClassifier('data3/hand_cascade_stage7.xml') # cascade trained for images of size (25x25) 1400 pos and 700 neg\n",
    "\n"
   ]
  },
  {
   "cell_type": "code",
   "execution_count": 62,
   "metadata": {},
   "outputs": [],
   "source": [
    "cap = cv2.VideoCapture(0)\n",
    "while(cap.isOpened()):\n",
    "    ret, img = cap.read()\n",
    "    gray = cv2.cvtColor(img, cv2.COLOR_BGR2GRAY)\n",
    "    gray = cv2.equalizeHist(gray)\n",
    "    hands = hand_cascade.detectMultiScale(gray,2.3,3) # DETECTING hand IN gray IMAGE\n",
    "    # This detect multiscale is found to work well with values 2.5,3 or 6,6\n",
    "    \n",
    "#     hands = hand_cascade.detectMultiScale(gray, 11, 11) \n",
    "    for (x,y,w,h) in hands:\n",
    "        cv2.rectangle(img, (x, y), (x+w, y+h), (0, 0, 255), 0)\n",
    "        cv2.rectangle(gray, (x, y), (x+w, y+h), (0, 0, 255), 0)\n",
    "        \n",
    "    cv2.imshow('img',img)\n",
    "    cv2.imshow('gray',gray)\n",
    "    \n",
    "    \n",
    "    k = cv2.waitKey(10)\n",
    "    if k == 27:\n",
    "        cap.release()\n",
    "        break\n",
    "        \n",
    "cv2.destroyAllWindows()"
   ]
  },
  {
   "cell_type": "code",
   "execution_count": null,
   "metadata": {},
   "outputs": [],
   "source": []
  },
  {
   "cell_type": "code",
   "execution_count": null,
   "metadata": {},
   "outputs": [],
   "source": []
  }
 ],
 "metadata": {
  "kernelspec": {
   "display_name": "Python 3",
   "language": "python",
   "name": "python3"
  },
  "language_info": {
   "codemirror_mode": {
    "name": "ipython",
    "version": 3
   },
   "file_extension": ".py",
   "mimetype": "text/x-python",
   "name": "python",
   "nbconvert_exporter": "python",
   "pygments_lexer": "ipython3",
   "version": "3.8.3"
  }
 },
 "nbformat": 4,
 "nbformat_minor": 4
}
