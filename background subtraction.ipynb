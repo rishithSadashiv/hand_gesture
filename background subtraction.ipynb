{
 "cells": [
  {
   "cell_type": "code",
   "execution_count": null,
   "metadata": {},
   "outputs": [],
   "source": [
    "import cv2\n",
    "import numpy as np\n",
    "import math\n",
    "\n",
    "\n",
    "bg = None\n",
    "\n",
    "hand_cascade = cv2.CascadeClassifier('training/data/hand_cascade_stage16.xml')"
   ]
  },
  {
   "cell_type": "code",
   "execution_count": null,
   "metadata": {},
   "outputs": [],
   "source": [
    "#--------------------------------------------------\n",
    "# To find the running average over the background\n",
    "#--------------------------------------------------\n",
    "def run_avg(image, aWeight):\n",
    "    global bg\n",
    "    # initialize the background\n",
    "    if bg is None:\n",
    "        bg = image.copy().astype(\"float\")\n",
    "        return\n",
    "\n",
    "    # compute weighted average, accumulate it and update the background\n",
    "    cv2.accumulateWeighted(image, bg, aWeight)"
   ]
  },
  {
   "cell_type": "code",
   "execution_count": null,
   "metadata": {},
   "outputs": [],
   "source": [
    "\n",
    "cap = cv2.VideoCapture(0)\n",
    "num_frames = 0\n",
    "aWeight = 0.5\n",
    "while(cap.isOpened()):\n",
    "    ret, img = cap.read()\n",
    "    gray = cv2.cvtColor(img, cv2.COLOR_BGR2GRAY)\n",
    "    gray = cv2.GaussianBlur(gray, (7, 7), 0)\n",
    "    \n",
    "    if num_frames < 30:\n",
    "        run_avg(gray, aWeight)\n",
    "    else:\n",
    "        diff = cv2.absdiff(bg.astype(\"uint8\"), gray)\n",
    "        hands = hand_cascade.detectMultiScale(gray,6,6)\n",
    "        for (x,y,w,h) in hands:\n",
    "            cv2.rectangle(gray, (x-50, y-50), (x+w+50, y+h+50), (0, 0, 255), 0)\n",
    "        cv2.imshow('diff', diff)\n",
    "  \n",
    "    \n",
    "    cv2.imshow('gray',gray)\n",
    "    num_frames += 1\n",
    "    k = cv2.waitKey(10)\n",
    "    if k == 27:\n",
    "        cap.release()\n",
    "        break\n",
    "        \n",
    "cv2.destroyAllWindows()\n"
   ]
  }
 ],
 "metadata": {
  "kernelspec": {
   "display_name": "Python 3",
   "language": "python",
   "name": "python3"
  },
  "language_info": {
   "codemirror_mode": {
    "name": "ipython",
    "version": 3
   },
   "file_extension": ".py",
   "mimetype": "text/x-python",
   "name": "python",
   "nbconvert_exporter": "python",
   "pygments_lexer": "ipython3",
   "version": "3.8.3"
  }
 },
 "nbformat": 4,
 "nbformat_minor": 4
}
