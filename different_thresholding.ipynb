{
 "cells": [
  {
   "cell_type": "code",
   "execution_count": null,
   "metadata": {},
   "outputs": [],
   "source": [
    "#https://docs.opencv.org/master/d7/d4d/tutorial_py_thresholding.html\n",
    "import cv2\n",
    "import numpy as np\n",
    "from matplotlib import pyplot as plt"
   ]
  },
  {
   "cell_type": "code",
   "execution_count": null,
   "metadata": {},
   "outputs": [],
   "source": [
    "from matplotlib import pyplot as plt\n",
    "cap = cv2.VideoCapture(0)\n",
    "num_frames = 0\n",
    "aWeight = 0.5\n",
    "while(cap.isOpened()):\n",
    "    ret, img = cap.read()\n",
    "    gray = cv2.cvtColor(img, cv2.COLOR_BGR2GRAY)\n",
    "    gray = cv2.GaussianBlur(gray, (7, 7), 0)\n",
    "    \n",
    "#     if num_frames < 30:\n",
    "#         run_avg(gray, aWeight)\n",
    "#     else:\n",
    "#         diff = cv2.absdiff(bg.astype(\"uint8\"), gray)\n",
    "#         hands = hand_cascade.detectMultiScale(gray,6,6)\n",
    "#         for (x,y,w,h) in hands:\n",
    "#             cv2.rectangle(gray, (x-50, y-50), (x+w+50, y+h+50), (0, 0, 255), 0)\n",
    "#         cv2.imshow('diff', diff)\n",
    "\n",
    "\n",
    "\n",
    "\n",
    "    ret,thresh1 = cv2.threshold(gray,127,255,cv2.THRESH_BINARY)\n",
    "    ret,thresh2 = cv2.threshold(gray,127,255,cv2.THRESH_BINARY_INV)\n",
    "    ret,thresh3 = cv2.threshold(gray,127,255,cv2.THRESH_TRUNC)\n",
    "    ret,thresh4 = cv2.threshold(gray,127,255,cv2.THRESH_TOZERO)\n",
    "    ret,thresh5 = cv2.threshold(gray,127,255,cv2.THRESH_TOZERO_INV)\n",
    "    titles = ['Original Image','BINARY','BINARY_INV','TRUNC','TOZERO','TOZERO_INV']\n",
    "    images = [img, thresh1, thresh2, thresh3, thresh4, thresh5]\n",
    "    \n",
    "    cv2.imshow('binary',thresh1)\n",
    "    cv2.imshow('bin_inv', thresh2)\n",
    "    cv2.imshow('trunc', thresh3)\n",
    "    cv2.imshow('tozero',thresh4)\n",
    "    cv2.imshow('tozero_inv', thresh5)\n",
    "    \n",
    "    \n",
    "    cv2.imshow('gray',gray)\n",
    "    num_frames += 1\n",
    "    k = cv2.waitKey(10)\n",
    "    if k == 27:\n",
    "        cap.release()\n",
    "        break\n",
    "        \n",
    "cv2.destroyAllWindows()\n"
   ]
  },
  {
   "cell_type": "code",
   "execution_count": null,
   "metadata": {},
   "outputs": [],
   "source": []
  },
  {
   "cell_type": "code",
   "execution_count": null,
   "metadata": {},
   "outputs": [],
   "source": []
  },
  {
   "cell_type": "code",
   "execution_count": null,
   "metadata": {},
   "outputs": [],
   "source": []
  },
  {
   "cell_type": "code",
   "execution_count": 4,
   "metadata": {},
   "outputs": [
    {
     "name": "stdout",
     "output_type": "stream",
     "text": [
      "(128, 128)\n"
     ]
    }
   ],
   "source": [
    "import cv2\n",
    "\n",
    "a = cv2.imread('2df8b3ad-8da0-4c3b-a9fb-750c82442df2_1L.png')\n",
    "gray = cv2.cvtColor(a, cv2.COLOR_BGR2GRAY)\n",
    "print(gray.shape)"
   ]
  },
  {
   "cell_type": "code",
   "execution_count": null,
   "metadata": {},
   "outputs": [],
   "source": []
  }
 ],
 "metadata": {
  "kernelspec": {
   "display_name": "Python 3",
   "language": "python",
   "name": "python3"
  },
  "language_info": {
   "codemirror_mode": {
    "name": "ipython",
    "version": 3
   },
   "file_extension": ".py",
   "mimetype": "text/x-python",
   "name": "python",
   "nbconvert_exporter": "python",
   "pygments_lexer": "ipython3",
   "version": "3.8.3"
  }
 },
 "nbformat": 4,
 "nbformat_minor": 4
}
