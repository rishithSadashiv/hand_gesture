{
 "cells": [
  {
   "cell_type": "code",
   "execution_count": 1,
   "metadata": {},
   "outputs": [],
   "source": [
    "import cv2\n",
    "import numpy as np\n",
    "hand_cascade = cv2.CascadeClassifier('training/data/hand_cascade_stage16.xml')"
   ]
  },
  {
   "cell_type": "code",
   "execution_count": 17,
   "metadata": {},
   "outputs": [],
   "source": [
    "def sharpen(image):\n",
    "    kernel = np.array([[-1, -1, -1], [-1, 9, -1], [-1, -1, -1]])\n",
    "    sharp = cv2.filter2D(image, -1, kernel)\n",
    "    cv2.imshow('sharp',sharp)\n",
    "    return sharp\n",
    "\n",
    "def sepia(image):\n",
    "    kernel = np.array([[0.272, 0.534, 0.131],\n",
    "                       [0.349, 0.686, 0.168],\n",
    "                       [0.393, 0.769, 0.189]])\n",
    "    spia = cv2.filter2D(image, -1, kernel)\n",
    "    cv2.imshow('sepia',spia)\n",
    "    return spia\n",
    "\n",
    "def gaussianBlur(image):\n",
    "    blur = cv2.GaussianBlur(image, (7, 7), 0)\n",
    "    cv2.imshow('blur',blur)\n",
    "    return blur\n",
    "\n",
    "def emboss(image):\n",
    "    kernel = np.array([[0,-1,-1],\n",
    "                            [1,0,-1],\n",
    "                            [1,1,0]])\n",
    "    emb = cv2.filter2D(image, -1, kernel)\n",
    "    cv2.imshow('embross', emb)\n",
    "    return emb\n",
    "\n",
    "def brightnessControl(image):\n",
    "    img =  cv2.convertScaleAbs(image, beta=5)\n",
    "    cv2.imshow('brightness controlled img', img)\n",
    "    return img"
   ]
  },
  {
   "cell_type": "code",
   "execution_count": 18,
   "metadata": {},
   "outputs": [],
   "source": [
    "cap = cv2.VideoCapture(0)\n",
    "\n",
    "while(cap.isOpened()):\n",
    "    ret, img = cap.read()\n",
    "    gray = cv2.cvtColor(img, cv2.COLOR_BGR2GRAY)\n",
    "#     gray = cv2.GaussianBlur(gray, (7, 7), 0)\n",
    "\n",
    "    \n",
    "    \n",
    "    hands = hand_cascade.detectMultiScale(gray,6,6)\n",
    "    for (x,y,w,h) in hands:\n",
    "        cv2.rectangle(gray, (x-50, y-50), (x+w+50, y+h+50), (0, 0, 255), 0)\n",
    "        roi = gray[y:y+h+10, x:x+w+10]\n",
    "#         sharp = sharpen(roi)\n",
    "\n",
    "#         spia = sepia(roi)\n",
    "\n",
    "#         blur = gaussianBlur(roi)\n",
    "\n",
    "#         emb = emboss(roi)\n",
    "            \n",
    "        bc = brightnessControl(roi)\n",
    "\n",
    "        _, thresh1 = cv2.threshold(bc, 70, 255, cv2.THRESH_BINARY_INV+cv2.THRESH_OTSU)\n",
    "        cv2.imshow('thresh', thresh1)\n",
    "    \n",
    "    cv2.imshow('gray',gray)\n",
    "    \n",
    "    \n",
    "    \n",
    "    \n",
    "    k = cv2.waitKey(10)\n",
    "    if k == 27:\n",
    "        cap.release()\n",
    "        break\n",
    "        \n",
    "cv2.destroyAllWindows()\n"
   ]
  },
  {
   "cell_type": "code",
   "execution_count": null,
   "metadata": {},
   "outputs": [],
   "source": []
  }
 ],
 "metadata": {
  "kernelspec": {
   "display_name": "Python 3",
   "language": "python",
   "name": "python3"
  },
  "language_info": {
   "codemirror_mode": {
    "name": "ipython",
    "version": 3
   },
   "file_extension": ".py",
   "mimetype": "text/x-python",
   "name": "python",
   "nbconvert_exporter": "python",
   "pygments_lexer": "ipython3",
   "version": "3.8.3"
  }
 },
 "nbformat": 4,
 "nbformat_minor": 4
}
